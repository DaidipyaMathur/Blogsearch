{
 "cells": [
  {
   "cell_type": "code",
   "execution_count": 1,
   "id": "5f29df0b",
   "metadata": {},
   "outputs": [
    {
     "name": "stdout",
     "output_type": "stream",
     "text": [
      "Requirement already satisfied: requests in ./.venv/lib/python3.12/site-packages (2.32.4)\n",
      "Requirement already satisfied: beautifulsoup4 in ./.venv/lib/python3.12/site-packages (4.13.4)\n",
      "Requirement already satisfied: charset_normalizer<4,>=2 in ./.venv/lib/python3.12/site-packages (from requests) (3.4.2)\n",
      "Requirement already satisfied: idna<4,>=2.5 in ./.venv/lib/python3.12/site-packages (from requests) (3.10)\n",
      "Requirement already satisfied: urllib3<3,>=1.21.1 in ./.venv/lib/python3.12/site-packages (from requests) (2.4.0)\n",
      "Requirement already satisfied: certifi>=2017.4.17 in ./.venv/lib/python3.12/site-packages (from requests) (2025.4.26)\n",
      "Requirement already satisfied: soupsieve>1.2 in ./.venv/lib/python3.12/site-packages (from beautifulsoup4) (2.7)\n",
      "Requirement already satisfied: typing-extensions>=4.0.0 in ./.venv/lib/python3.12/site-packages (from beautifulsoup4) (4.14.0)\n"
     ]
    }
   ],
   "source": [
    "!pip install requests beautifulsoup4"
   ]
  },
  {
   "cell_type": "code",
   "execution_count": 2,
   "id": "7a204421",
   "metadata": {},
   "outputs": [],
   "source": [
    "import requests\n",
    "from bs4 import BeautifulSoup"
   ]
  },
  {
   "cell_type": "code",
   "execution_count": 3,
   "id": "1c88ff46",
   "metadata": {},
   "outputs": [
    {
     "name": "stdout",
     "output_type": "stream",
     "text": [
      "Successfully fetched the webpage!\n",
      "Content length: 143505 characters\n"
     ]
    }
   ],
   "source": [
    "# The URL of the blog post we want to crawl\n",
    "start_url = \"https://waitbutwhy.com/2013/10/why-procrastinators-procrastinate.html\"\n",
    "\n",
    "headers = {\n",
    "    'User-Agent': 'PersonalBlogSearchCrawler/1.0'\n",
    "}\n",
    "\n",
    "html_content = \"\"\n",
    "try:\n",
    "    # A timeout is crucial to prevent our script from hanging indefinitely\n",
    "    response = requests.get(start_url, headers=headers, timeout=10)\n",
    "\n",
    "    # Raise an exception if the request was not successful (e.g., 404 Not Found, 500 Server Error)\n",
    "    response.raise_for_status()\n",
    "    \n",
    "    html_content = response.text\n",
    "    print(\"Successfully fetched the webpage!\")\n",
    "    print(f\"Content length: {len(html_content)} characters\")\n",
    "\n",
    "except requests.exceptions.RequestException as e:\n",
    "    print(f\"An error occurred: {e}\")"
   ]
  },
  {
   "cell_type": "code",
   "execution_count": 4,
   "id": "d7fb24dc",
   "metadata": {},
   "outputs": [],
   "source": [
    "from urllib.parse import urljoin\n",
    "\n",
    "base_url = \"https://waitbutwhy.com/2013/10/why-procrastinators-procrastinate.html\"\n",
    "\n",
    "# Use a set to store the cleaned links to automatically handle duplicates\n",
    "cleaned_links = set()\n",
    "\n",
    "if 'all_links' in locals():  # Check if all_links exists\n",
    "    for link in all_links:\n",
    "        href = link.get('href')\n",
    "\n",
    "        # --- Filtering ---\n",
    "        # 1. Check if the href exists and is not empty\n",
    "        if not href:\n",
    "            continue\n",
    "        # 2. Ignore \"mailto\" links and javascript calls\n",
    "        if href.startswith('mailto:') or href.startswith('javascript:'):\n",
    "            continue\n",
    "        # 3. Ignore anchor links that just point to a part of the current page\n",
    "        if href.startswith('#'):\n",
    "            continue\n",
    "\n",
    "        # --- Normalizing ---\n",
    "        # Use urljoin to combine the base_url with the found href.\n",
    "        # urljoin is smart:\n",
    "        # - If href is already absolute, it returns it unchanged.\n",
    "        # - If href is relative, it joins it with the base URL correctly.\n",
    "        absolute_link = urljoin(base_url, href)\n",
    "        cleaned_links.add(absolute_link)\n",
    "\n",
    "    print(f\"Found {len(cleaned_links)} unique, cleaned links.\")\n",
    "\n",
    "    # Let's print the first 10 to see the result\n",
    "    for link in list(cleaned_links)[:10]:\n",
    "        print(link)"
   ]
  },
  {
   "cell_type": "code",
   "execution_count": 9,
   "id": "a6e40e58",
   "metadata": {},
   "outputs": [],
   "source": [
    "import time\n",
    "import json\n",
    "from collections import deque\n",
    "from urllib.parse import urlparse, urljoin\n",
    "import requests\n",
    "from bs4 import BeautifulSoup, XMLParsedAsHTMLWarning\n",
    "import warnings\n",
    "\n",
    "warnings.filterwarnings(\"ignore\", category=XMLParsedAsHTMLWarning)\n",
    "\n",
    "# We've wrapped all our logic into a single, reusable function\n",
    "\n",
    "def run_targeted_crawl(seed_file, output_file, max_pages=200):\n",
    "    \"\"\"\n",
    "    Crawls websites starting from a list of seed URLs in a file.\n",
    "    \n",
    "    Args:\n",
    "        seed_file (str): The path to the file containing seed URLs (one per line).\n",
    "        output_file (str): The path to the .jsonl file where results will be saved.\n",
    "        max_pages (int): The maximum number of pages to crawl in this session.\n",
    "    \"\"\"\n",
    "    print(f\"--- Starting new crawl session ---\")\n",
    "    print(f\"Seed file: {seed_file}\")\n",
    "    print(f\"Output file: {output_file}\")\n",
    "\n",
    "    # --- Initial Setup ---\n",
    "    try:\n",
    "        with open(seed_file, 'r') as f:\n",
    "            # Read all URLs from the seed file, stripping whitespace/newlines\n",
    "            start_urls = [line.strip() for line in f if line.strip()]\n",
    "        if not start_urls:\n",
    "            print(\"Error: Seed file is empty.\")\n",
    "            return\n",
    "    except FileNotFoundError:\n",
    "        print(f\"Error: Seed file not found at '{seed_file}'\")\n",
    "        return\n",
    "\n",
    "    # Initialize the queue and visited set with all the seeds\n",
    "    queue = deque(start_urls)\n",
    "    visited_urls = set(start_urls)\n",
    "    crawled_count = 0\n",
    "\n",
    "    # Open the output file to append to\n",
    "    with open(output_file, 'w') as f:\n",
    "        while queue and crawled_count < max_pages:\n",
    "            current_url = queue.popleft()\n",
    "            crawled_count += 1\n",
    "            \n",
    "            print(f\"[{crawled_count}/{max_pages}] Crawling: {current_url}\")\n",
    "\n",
    "            try:\n",
    "                headers = {'User-Agent': 'PersonalBlogSearchCrawler/1.0'}\n",
    "                response = requests.get(current_url, headers=headers, timeout=10)\n",
    "                response.raise_for_status()\n",
    "            except requests.exceptions.RequestException as e:\n",
    "                print(f\"   -> Failed to fetch {current_url}: {e}\")\n",
    "                continue\n",
    "\n",
    "            # --- Save Content ---\n",
    "            soup = BeautifulSoup(response.text, 'html.parser')\n",
    "            page_title = soup.find('title').get_text(strip=True) if soup.find('title') else 'No Title'\n",
    "            page_text = soup.get_text(separator=' ', strip=True)\n",
    "            \n",
    "            data = {'url': current_url, 'title': page_title, 'text': page_text}\n",
    "            f.write(json.dumps(data) + '\\n')\n",
    "            \n",
    "            # --- Find and Add New Links ---\n",
    "            for link in soup.find_all('a'):\n",
    "                href = link.get('href')\n",
    "                if not href: continue\n",
    "                \n",
    "                absolute_link = urljoin(current_url, href)\n",
    "                \n",
    "                # We can add more filtering logic here if needed\n",
    "                if absolute_link not in visited_urls:\n",
    "                    visited_urls.add(absolute_link)\n",
    "                    queue.append(absolute_link)\n",
    "            \n",
    "            time.sleep(1)\n",
    "\n",
    "    print(f\"\\n--- Crawl session finished. ---\")\n",
    "    print(f\"Data for {crawled_count} pages saved to {output_file}\")"
   ]
  },
  {
   "cell_type": "code",
   "execution_count": 10,
   "id": "5443baac",
   "metadata": {},
   "outputs": [
    {
     "name": "stdout",
     "output_type": "stream",
     "text": [
      "--- Starting new crawl session ---\n",
      "Seed file: personal_blog.txt\n",
      "Output file: crawled_personal.jsonl\n",
      "[1/500] Crawling: https://manassaloi.com/2018/03/30/how-i-became-pm.html\n"
     ]
    },
    {
     "ename": "KeyboardInterrupt",
     "evalue": "",
     "output_type": "error",
     "traceback": [
      "\u001b[31m---------------------------------------------------------------------------\u001b[39m",
      "\u001b[31mKeyboardInterrupt\u001b[39m                         Traceback (most recent call last)",
      "\u001b[36mCell\u001b[39m\u001b[36m \u001b[39m\u001b[32mIn[10]\u001b[39m\u001b[32m, line 2\u001b[39m\n\u001b[32m      1\u001b[39m \u001b[38;5;66;03m# --- CRAWL 1: GATHER PERSONAL BLOGS ---\u001b[39;00m\n\u001b[32m----> \u001b[39m\u001b[32m2\u001b[39m \u001b[43mrun_targeted_crawl\u001b[49m\u001b[43m(\u001b[49m\n\u001b[32m      3\u001b[39m \u001b[43m    \u001b[49m\u001b[43mseed_file\u001b[49m\u001b[43m=\u001b[49m\u001b[33;43m'\u001b[39;49m\u001b[33;43mpersonal_blog.txt\u001b[39;49m\u001b[33;43m'\u001b[39;49m\u001b[43m,\u001b[49m\u001b[43m \u001b[49m\n\u001b[32m      4\u001b[39m \u001b[43m    \u001b[49m\u001b[43moutput_file\u001b[49m\u001b[43m=\u001b[49m\u001b[33;43m'\u001b[39;49m\u001b[33;43mcrawled_personal.jsonl\u001b[39;49m\u001b[33;43m'\u001b[39;49m\u001b[43m,\u001b[49m\n\u001b[32m      5\u001b[39m \u001b[43m    \u001b[49m\u001b[43mmax_pages\u001b[49m\u001b[43m=\u001b[49m\u001b[32;43m500\u001b[39;49m\u001b[43m  \u001b[49m\u001b[38;5;66;43;03m# Crawl up to 500 pages\u001b[39;49;00m\n\u001b[32m      6\u001b[39m \u001b[43m)\u001b[49m\n\u001b[32m      8\u001b[39m \u001b[38;5;66;03m# --- CRAWL 2: GATHER CORPORATE BLOGS ---\u001b[39;00m\n\u001b[32m      9\u001b[39m run_targeted_crawl(\n\u001b[32m     10\u001b[39m     seed_file=\u001b[33m'\u001b[39m\u001b[33mpersonal_blog.txt\u001b[39m\u001b[33m'\u001b[39m, \n\u001b[32m     11\u001b[39m     output_file=\u001b[33m'\u001b[39m\u001b[33mcrawled_personal.jsonl\u001b[39m\u001b[33m'\u001b[39m,\n\u001b[32m     12\u001b[39m     max_pages=\u001b[32m500\u001b[39m  \u001b[38;5;66;03m# Crawl up to 500 pages\u001b[39;00m\n\u001b[32m     13\u001b[39m )\n",
      "\u001b[36mCell\u001b[39m\u001b[36m \u001b[39m\u001b[32mIn[9]\u001b[39m\u001b[32m, line 79\u001b[39m, in \u001b[36mrun_targeted_crawl\u001b[39m\u001b[34m(seed_file, output_file, max_pages)\u001b[39m\n\u001b[32m     76\u001b[39m                 visited_urls.add(absolute_link)\n\u001b[32m     77\u001b[39m                 queue.append(absolute_link)\n\u001b[32m---> \u001b[39m\u001b[32m79\u001b[39m         \u001b[43mtime\u001b[49m\u001b[43m.\u001b[49m\u001b[43msleep\u001b[49m\u001b[43m(\u001b[49m\u001b[32;43m1\u001b[39;49m\u001b[43m)\u001b[49m\n\u001b[32m     81\u001b[39m \u001b[38;5;28mprint\u001b[39m(\u001b[33mf\u001b[39m\u001b[33m\"\u001b[39m\u001b[38;5;130;01m\\n\u001b[39;00m\u001b[33m--- Crawl session finished. ---\u001b[39m\u001b[33m\"\u001b[39m)\n\u001b[32m     82\u001b[39m \u001b[38;5;28mprint\u001b[39m(\u001b[33mf\u001b[39m\u001b[33m\"\u001b[39m\u001b[33mData for \u001b[39m\u001b[38;5;132;01m{\u001b[39;00mcrawled_count\u001b[38;5;132;01m}\u001b[39;00m\u001b[33m pages saved to \u001b[39m\u001b[38;5;132;01m{\u001b[39;00moutput_file\u001b[38;5;132;01m}\u001b[39;00m\u001b[33m\"\u001b[39m)\n",
      "\u001b[31mKeyboardInterrupt\u001b[39m: "
     ]
    }
   ],
   "source": [
    "# --- CRAWL 1: GATHER PERSONAL BLOGS ---\n",
    "run_targeted_crawl(\n",
    "    seed_file='personal_blog.txt', \n",
    "    output_file='crawled_personal.jsonl',\n",
    "    max_pages=500  # Crawl up to 500 pages\n",
    ")\n",
    "\n",
    "# --- CRAWL 2: GATHER CORPORATE BLOGS ---\n",
    "run_targeted_crawl(\n",
    "    seed_file='personal_blog.txt', \n",
    "    output_file='crawled_personal.jsonl',\n",
    "    max_pages=500  # Crawl up to 500 pages\n",
    ")"
   ]
  }
 ],
 "metadata": {
  "kernelspec": {
   "display_name": ".venv",
   "language": "python",
   "name": "python3"
  },
  "language_info": {
   "codemirror_mode": {
    "name": "ipython",
    "version": 3
   },
   "file_extension": ".py",
   "mimetype": "text/x-python",
   "name": "python",
   "nbconvert_exporter": "python",
   "pygments_lexer": "ipython3",
   "version": "3.12.3"
  }
 },
 "nbformat": 4,
 "nbformat_minor": 5
}
