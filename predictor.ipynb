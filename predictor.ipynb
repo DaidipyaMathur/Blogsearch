{
 "cells": [
  {
   "cell_type": "code",
   "execution_count": 1,
   "id": "478da145",
   "metadata": {},
   "outputs": [
    {
     "name": "stderr",
     "output_type": "stream",
     "text": [
      "/home/daidipya-mathur/bsearch/.venv/lib/python3.12/site-packages/tqdm/auto.py:21: TqdmWarning: IProgress not found. Please update jupyter and ipywidgets. See https://ipywidgets.readthedocs.io/en/stable/user_install.html\n",
      "  from .autonotebook import tqdm as notebook_tqdm\n",
      "Device set to use cpu\n"
     ]
    },
    {
     "name": "stdout",
     "output_type": "stream",
     "text": [
      "--- Classifying new, unseen text ---\n",
      "\n",
      "Positive Example Text:\n",
      "Prediction: 'personal_blog' with a confidence score of 0.5146\n",
      "\n",
      "Negative Example Text:\n",
      "Prediction: 'personal_blog' with a confidence score of 0.5113\n"
     ]
    }
   ],
   "source": [
    "from transformers import pipeline\n",
    "\n",
    "# --- Load your fine-tuned model from the saved directory ---\n",
    "# The pipeline will automatically load the model, its configuration, and the tokenizer.\n",
    "# \"sentiment-analysis\" is the generic name for text classification tasks.\n",
    "model_path = \"./blog_classifier_model/checkpoint-15\" # Check your folder for the highest checkpoint number\n",
    "classifier = pipeline(\"sentiment-analysis\", model=model_path)\n",
    "\n",
    "\n",
    "# --- Let's test it! ---\n",
    "\n",
    "# Positive Example: A snippet from a classic blog post\n",
    "# (This text was NOT in your training data)\n",
    "positive_text = \"\"\"\n",
    "The idea is that there are two versions of you: the Rational Decision-Maker and the Instant Gratification Monkey. \n",
    "The monkey has no memory of the past, no knowledge of the future, and cares only about two things: easy and fun. \n",
    "This works fine in tribal times, but in today's advanced civilization, the monkey is a major problem. \n",
    "This is the source of procrastination.\n",
    "\"\"\"\n",
    "\n",
    "# Negative Example: A typical \"About Us\" page\n",
    "negative_text = \"\"\"\n",
    "Our company, founded in 2011, is a leading provider of innovative solutions for the enterprise sector.\n",
    "We are committed to delivering excellence and shareholder value through our synergistic approach to market dynamics.\n",
    "For career opportunities, please visit our careers page.\n",
    "\"\"\"\n",
    "\n",
    "print(\"--- Classifying new, unseen text ---\")\n",
    "\n",
    "# Use the pipeline to get predictions\n",
    "positive_result = classifier(positive_text)\n",
    "negative_result = classifier(negative_text)\n",
    "\n",
    "print(\"\\nPositive Example Text:\")\n",
    "print(f\"Prediction: '{positive_result[0]['label']}' with a confidence score of {positive_result[0]['score']:.4f}\")\n",
    "\n",
    "print(\"\\nNegative Example Text:\")\n",
    "print(f\"Prediction: '{negative_result[0]['label']}' with a confidence score of {negative_result[0]['score']:.4f}\")"
   ]
  }
 ],
 "metadata": {
  "kernelspec": {
   "display_name": ".venv",
   "language": "python",
   "name": "python3"
  },
  "language_info": {
   "codemirror_mode": {
    "name": "ipython",
    "version": 3
   },
   "file_extension": ".py",
   "mimetype": "text/x-python",
   "name": "python",
   "nbconvert_exporter": "python",
   "pygments_lexer": "ipython3",
   "version": "3.12.3"
  }
 },
 "nbformat": 4,
 "nbformat_minor": 5
}
